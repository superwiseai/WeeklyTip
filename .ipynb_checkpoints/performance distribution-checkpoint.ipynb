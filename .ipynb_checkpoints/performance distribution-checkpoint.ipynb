{
 "cells": [
  {
   "cell_type": "code",
   "execution_count": 24,
   "metadata": {},
   "outputs": [],
   "source": [
    "import pandas as pd\n",
    "import numpy as np\n",
    "import matplotlib.pyplot as plt\n",
    "from sklearn.model_selection import KFold\n",
    "from sklearn.model_selection import cross_val_score\n",
    "from sklearn import tree"
   ]
  },
  {
   "cell_type": "markdown",
   "metadata": {},
   "source": [
    "## <a name=\"dataset_description\"></a>Iris Dataset Description:\n",
    "\n",
    "The iris dataset describes iris flowers. \n",
    "The explaining features are:\n",
    "\n",
    "* sepal length in cm\n",
    "* sepal width in cm\n",
    "* petal length in cm\n",
    "* petal width in cm   \n",
    "\n",
    "For the sake of demonstration I've added some noise the the original explaining variables\n",
    "\n",
    "There are 3 different iris species: Setosa, Versicolor and Verginica."
   ]
  },
  {
   "cell_type": "code",
   "execution_count": 25,
   "metadata": {},
   "outputs": [
    {
     "name": "stdout",
     "output_type": "stream",
     "text": [
      "(150, 5)\n",
      "['Sepal.Length' 'Sepal.Width' 'Petal.Length' 'Petal.Width' 'Species']\n"
     ]
    },
    {
     "data": {
      "text/html": [
       "<div>\n",
       "<style scoped>\n",
       "    .dataframe tbody tr th:only-of-type {\n",
       "        vertical-align: middle;\n",
       "    }\n",
       "\n",
       "    .dataframe tbody tr th {\n",
       "        vertical-align: top;\n",
       "    }\n",
       "\n",
       "    .dataframe thead th {\n",
       "        text-align: right;\n",
       "    }\n",
       "</style>\n",
       "<table border=\"1\" class=\"dataframe\">\n",
       "  <thead>\n",
       "    <tr style=\"text-align: right;\">\n",
       "      <th></th>\n",
       "      <th>Sepal.Length</th>\n",
       "      <th>Sepal.Width</th>\n",
       "      <th>Petal.Length</th>\n",
       "      <th>Petal.Width</th>\n",
       "      <th>Species</th>\n",
       "    </tr>\n",
       "  </thead>\n",
       "  <tbody>\n",
       "    <tr>\n",
       "      <td>0</td>\n",
       "      <td>5.781604</td>\n",
       "      <td>5.417326</td>\n",
       "      <td>1.370236</td>\n",
       "      <td>-0.389175</td>\n",
       "      <td>setosa</td>\n",
       "    </tr>\n",
       "    <tr>\n",
       "      <td>1</td>\n",
       "      <td>5.030822</td>\n",
       "      <td>3.015997</td>\n",
       "      <td>1.005631</td>\n",
       "      <td>0.707174</td>\n",
       "      <td>setosa</td>\n",
       "    </tr>\n",
       "    <tr>\n",
       "      <td>2</td>\n",
       "      <td>3.472279</td>\n",
       "      <td>3.661468</td>\n",
       "      <td>0.778065</td>\n",
       "      <td>-0.082963</td>\n",
       "      <td>setosa</td>\n",
       "    </tr>\n",
       "    <tr>\n",
       "      <td>3</td>\n",
       "      <td>2.815518</td>\n",
       "      <td>3.416954</td>\n",
       "      <td>2.118747</td>\n",
       "      <td>0.069365</td>\n",
       "      <td>setosa</td>\n",
       "    </tr>\n",
       "    <tr>\n",
       "      <td>4</td>\n",
       "      <td>4.940967</td>\n",
       "      <td>1.631585</td>\n",
       "      <td>2.805522</td>\n",
       "      <td>0.846859</td>\n",
       "      <td>setosa</td>\n",
       "    </tr>\n",
       "    <tr>\n",
       "      <td>5</td>\n",
       "      <td>6.111881</td>\n",
       "      <td>4.719047</td>\n",
       "      <td>0.694090</td>\n",
       "      <td>0.761787</td>\n",
       "      <td>setosa</td>\n",
       "    </tr>\n",
       "    <tr>\n",
       "      <td>6</td>\n",
       "      <td>6.321901</td>\n",
       "      <td>3.679437</td>\n",
       "      <td>1.127065</td>\n",
       "      <td>0.432360</td>\n",
       "      <td>setosa</td>\n",
       "    </tr>\n",
       "    <tr>\n",
       "      <td>7</td>\n",
       "      <td>1.855927</td>\n",
       "      <td>2.793302</td>\n",
       "      <td>0.491521</td>\n",
       "      <td>-0.231517</td>\n",
       "      <td>setosa</td>\n",
       "    </tr>\n",
       "    <tr>\n",
       "      <td>8</td>\n",
       "      <td>3.757459</td>\n",
       "      <td>1.478489</td>\n",
       "      <td>0.958355</td>\n",
       "      <td>-2.384833</td>\n",
       "      <td>setosa</td>\n",
       "    </tr>\n",
       "    <tr>\n",
       "      <td>9</td>\n",
       "      <td>3.918391</td>\n",
       "      <td>4.618611</td>\n",
       "      <td>1.010335</td>\n",
       "      <td>0.412705</td>\n",
       "      <td>setosa</td>\n",
       "    </tr>\n",
       "  </tbody>\n",
       "</table>\n",
       "</div>"
      ],
      "text/plain": [
       "   Sepal.Length  Sepal.Width  Petal.Length  Petal.Width Species\n",
       "0      5.781604     5.417326      1.370236    -0.389175  setosa\n",
       "1      5.030822     3.015997      1.005631     0.707174  setosa\n",
       "2      3.472279     3.661468      0.778065    -0.082963  setosa\n",
       "3      2.815518     3.416954      2.118747     0.069365  setosa\n",
       "4      4.940967     1.631585      2.805522     0.846859  setosa\n",
       "5      6.111881     4.719047      0.694090     0.761787  setosa\n",
       "6      6.321901     3.679437      1.127065     0.432360  setosa\n",
       "7      1.855927     2.793302      0.491521    -0.231517  setosa\n",
       "8      3.757459     1.478489      0.958355    -2.384833  setosa\n",
       "9      3.918391     4.618611      1.010335     0.412705  setosa"
      ]
     },
     "execution_count": 25,
     "metadata": {},
     "output_type": "execute_result"
    }
   ],
   "source": [
    "iris = pd.read_csv('Data/iris.csv')\n",
    "print(iris.shape)\n",
    "print(iris.columns.values)\n",
    "\n",
    "iris_X = iris.drop(['Species'],axis = 1)\n",
    "iris_Y = iris.Species\n",
    "\n",
    "# Add noisy features to make the problem harder\n",
    "noise = np.random.normal(0,1,iris_X.shape)\n",
    "#print(noise)\n",
    "\n",
    "iris_with_noise_X = iris_X + noise\n",
    "iris_with_noise = pd.concat([iris_with_noise_X, iris_Y], axis=1)\n",
    "iris_with_noise.head()\n",
    "\n",
    "iris_with_noise.head(10)"
   ]
  },
  {
   "cell_type": "markdown",
   "metadata": {},
   "source": [
    "## <a name=\"cross_validation\"></a>Cross Validation\n",
    "\n",
    "Using KFold to create N shuffeled folds"
   ]
  },
  {
   "cell_type": "code",
   "execution_count": 26,
   "metadata": {},
   "outputs": [
    {
     "name": "stdout",
     "output_type": "stream",
     "text": [
      "Test indices: [ 10  17  20  27  31  33  35  58  67  80 100 112 126 135 140]\n",
      "Test indices: [ 11  18  32  46  54  61  68  83  90  91  92  93  96 115 138]\n",
      "Test indices: [  6  23  28  37  62  77  95 106 109 113 117 131 139 142 143]\n",
      "Test indices: [ 12  13  15  38  48  49  55  74  88 107 111 118 120 125 127]\n",
      "Test indices: [  4   7  14  40  42  52  53  71  82  84  86  99 132 136 137]\n",
      "Test indices: [  1   9  19  22  57  59  79  85  89  97  98 116 121 128 145]\n",
      "Test indices: [  0   3  26  44  45  65  69  70  73 114 119 122 124 129 147]\n",
      "Test indices: [  2   5   8  30  50  63  78  81 103 110 130 134 141 146 149]\n",
      "Test indices: [ 16  25  29  34  41  51  72  75  87  94 102 104 105 123 144]\n",
      "Test indices: [ 21  24  36  39  43  47  56  60  64  66  76 101 108 133 148]\n"
     ]
    }
   ],
   "source": [
    "k_folds=10\n",
    "\n",
    "kf = KFold(n_splits=k_folds,shuffle=True) \n",
    "for train_index, test_index in kf.split(iris_X,iris_Y):\n",
    "    print(\"Test indices:\", test_index)"
   ]
  },
  {
   "cell_type": "markdown",
   "metadata": {},
   "source": [
    "## Evaluating classifier\n",
    "\n",
    "Building a classifier using specific strategy (specific learning method and specific hyperparams)"
   ]
  },
  {
   "cell_type": "code",
   "execution_count": 32,
   "metadata": {},
   "outputs": [],
   "source": [
    "clf_option_1 = tree.DecisionTreeClassifier(random_state=0, criterion=\"entropy\", min_samples_leaf=10, max_depth=4) # using default parameters\n",
    "scores_option_1 = cross_val_score(clf_option_1, iris_with_noise_X, iris_Y, cv=kf, scoring='accuracy')\n",
    "\n",
    "clf_option_2 = tree.DecisionTreeClassifier(random_state=0, criterion=\"entropy\", min_samples_leaf=1, max_depth=10) # using default parameters\n",
    "scores_option_2 = cross_val_score(clf_option_2, iris_with_noise_X, iris_Y, cv=kf, scoring='accuracy')"
   ]
  },
  {
   "cell_type": "markdown",
   "metadata": {},
   "source": [
    "visualizing the kfold scores variance"
   ]
  },
  {
   "cell_type": "code",
   "execution_count": 35,
   "metadata": {},
   "outputs": [
    {
     "name": "stdout",
     "output_type": "stream",
     "text": [
      "Strategy 1: Accuracy: 0.74 (+/- 0.25)\n",
      "[0.53333333 0.8        0.66666667 0.86666667 0.73333333 0.93333333\n",
      " 0.53333333 0.8        0.73333333 0.8       ]\n"
     ]
    },
    {
     "data": {
      "image/png": "[encoded data removed]",
      "text/plain": [
       "<Figure size 432x288 with 1 Axes>"
      ]
     },
     "metadata": {
      "needs_background": "light"
     },
     "output_type": "display_data"
    },
    {
     "name": "stdout",
     "output_type": "stream",
     "text": [
      "Strategy 2: Accuracy: 0.76 (+/- 0.16)\n",
      "[0.86666667 0.73333333 0.73333333 0.8        0.86666667 0.66666667\n",
      " 0.8        0.6        0.8        0.73333333]\n"
     ]
    },
    {
     "data": {
      "image/png": "[encoded data removed]",
      "text/plain": [
       "<Figure size 432x288 with 1 Axes>"
      ]
     },
     "metadata": {
      "needs_background": "light"
     },
     "output_type": "display_data"
    }
   ],
   "source": [
    "print(\"Strategy 1: Accuracy: %0.2f (+/- %0.2f)\" % (scores_option_1.mean(), scores_option_1.std() * 2))\n",
    "print(scores_option_1)\n",
    "plt.bar(list(range(1, 11)), scores_option_1)\n",
    "plt.show()\n",
    "\n",
    "print(\"Strategy 2: Accuracy: %0.2f (+/- %0.2f)\" % (scores_option_2.mean(), scores_option_2.std() * 2))\n",
    "print(scores_option_2)\n",
    "plt.bar(list(range(1, 11)), scores_option_2)\n",
    "plt.show()"
   ]
  }
 ],
 "metadata": {
  "kernelspec": {
   "display_name": "Python 3",
   "language": "python",
   "name": "python3"
  },
  "language_info": {
   "codemirror_mode": {
    "name": "ipython",
    "version": 3
   },
   "file_extension": ".py",
   "mimetype": "text/x-python",
   "name": "python",
   "nbconvert_exporter": "python",
   "pygments_lexer": "ipython3",
   "version": "3.7.4"
  },
  "varInspector": {
   "cols": {
    "lenName": 16,
    "lenType": 16,
    "lenVar": 40
   },
   "kernels_config": {
    "python": {
     "delete_cmd_postfix": "",
     "delete_cmd_prefix": "del ",
     "library": "var_list.py",
     "varRefreshCmd": "print(var_dic_list())"
    },
    "r": {
     "delete_cmd_postfix": ") ",
     "delete_cmd_prefix": "rm(",
     "library": "var_list.r",
     "varRefreshCmd": "cat(var_dic_list()) "
    }
   },
   "types_to_exclude": [
    "module",
    "function",
    "builtin_function_or_method",
    "instance",
    "_Feature"
   ],
   "window_display": false
  }
 },
 "nbformat": 4,
 "nbformat_minor": 4
}
