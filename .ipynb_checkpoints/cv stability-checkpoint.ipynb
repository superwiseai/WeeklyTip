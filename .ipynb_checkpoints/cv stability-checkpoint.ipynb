{
 "cells": [
  {
   "cell_type": "code",
   "execution_count": 10,
   "metadata": {},
   "outputs": [],
   "source": [
    "import pandas as pd\n",
    "import numpy as np\n",
    "import matplotlib.pyplot as plt\n",
    "from sklearn.model_selection import KFold\n",
    "from sklearn.model_selection import cross_val_score\n",
    "from sklearn import tree"
   ]
  },
  {
   "cell_type": "markdown",
   "metadata": {},
   "source": [
    "## <a name=\"dataset_description\"></a>Iris Dataset Description:\n",
    "\n",
    "The iris dataset describes iris flowers. \n",
    "The explaining features are:\n",
    "\n",
    "* sepal length in cm\n",
    "* sepal width in cm\n",
    "* petal length in cm\n",
    "* petal width in cm   \n",
    "\n",
    "For the sake of demonstration I've added some noise the the original explaining variables\n",
    "\n",
    "There are 3 different iris species: Setosa, Versicolor and Verginica."
   ]
  },
  {
   "cell_type": "code",
   "execution_count": 11,
   "metadata": {},
   "outputs": [
    {
     "name": "stdout",
     "output_type": "stream",
     "text": [
      "(150, 5)\n",
      "['Sepal.Length' 'Sepal.Width' 'Petal.Length' 'Petal.Width' 'Species']\n"
     ]
    },
    {
     "data": {
      "text/html": [
       "<div>\n",
       "<style scoped>\n",
       "    .dataframe tbody tr th:only-of-type {\n",
       "        vertical-align: middle;\n",
       "    }\n",
       "\n",
       "    .dataframe tbody tr th {\n",
       "        vertical-align: top;\n",
       "    }\n",
       "\n",
       "    .dataframe thead th {\n",
       "        text-align: right;\n",
       "    }\n",
       "</style>\n",
       "<table border=\"1\" class=\"dataframe\">\n",
       "  <thead>\n",
       "    <tr style=\"text-align: right;\">\n",
       "      <th></th>\n",
       "      <th>Sepal.Length</th>\n",
       "      <th>Sepal.Width</th>\n",
       "      <th>Petal.Length</th>\n",
       "      <th>Petal.Width</th>\n",
       "      <th>Species</th>\n",
       "    </tr>\n",
       "  </thead>\n",
       "  <tbody>\n",
       "    <tr>\n",
       "      <td>0</td>\n",
       "      <td>5.838774</td>\n",
       "      <td>3.150869</td>\n",
       "      <td>2.552947</td>\n",
       "      <td>-0.138983</td>\n",
       "      <td>setosa</td>\n",
       "    </tr>\n",
       "    <tr>\n",
       "      <td>1</td>\n",
       "      <td>5.633302</td>\n",
       "      <td>4.063206</td>\n",
       "      <td>0.912914</td>\n",
       "      <td>1.918582</td>\n",
       "      <td>setosa</td>\n",
       "    </tr>\n",
       "    <tr>\n",
       "      <td>2</td>\n",
       "      <td>4.829249</td>\n",
       "      <td>4.472595</td>\n",
       "      <td>0.812740</td>\n",
       "      <td>0.404875</td>\n",
       "      <td>setosa</td>\n",
       "    </tr>\n",
       "    <tr>\n",
       "      <td>3</td>\n",
       "      <td>4.773102</td>\n",
       "      <td>3.382598</td>\n",
       "      <td>2.729648</td>\n",
       "      <td>0.484304</td>\n",
       "      <td>setosa</td>\n",
       "    </tr>\n",
       "    <tr>\n",
       "      <td>4</td>\n",
       "      <td>3.310578</td>\n",
       "      <td>4.992468</td>\n",
       "      <td>0.893592</td>\n",
       "      <td>-0.006297</td>\n",
       "      <td>setosa</td>\n",
       "    </tr>\n",
       "    <tr>\n",
       "      <td>5</td>\n",
       "      <td>4.387745</td>\n",
       "      <td>4.395927</td>\n",
       "      <td>-0.516972</td>\n",
       "      <td>0.200262</td>\n",
       "      <td>setosa</td>\n",
       "    </tr>\n",
       "    <tr>\n",
       "      <td>6</td>\n",
       "      <td>5.412433</td>\n",
       "      <td>3.067126</td>\n",
       "      <td>-0.670316</td>\n",
       "      <td>0.332798</td>\n",
       "      <td>setosa</td>\n",
       "    </tr>\n",
       "    <tr>\n",
       "      <td>7</td>\n",
       "      <td>5.739549</td>\n",
       "      <td>2.979523</td>\n",
       "      <td>1.860401</td>\n",
       "      <td>0.163752</td>\n",
       "      <td>setosa</td>\n",
       "    </tr>\n",
       "    <tr>\n",
       "      <td>8</td>\n",
       "      <td>4.351120</td>\n",
       "      <td>4.513765</td>\n",
       "      <td>-0.082217</td>\n",
       "      <td>-1.730617</td>\n",
       "      <td>setosa</td>\n",
       "    </tr>\n",
       "    <tr>\n",
       "      <td>9</td>\n",
       "      <td>5.202007</td>\n",
       "      <td>2.511745</td>\n",
       "      <td>2.091930</td>\n",
       "      <td>0.612450</td>\n",
       "      <td>setosa</td>\n",
       "    </tr>\n",
       "  </tbody>\n",
       "</table>\n",
       "</div>"
      ],
      "text/plain": [
       "   Sepal.Length  Sepal.Width  Petal.Length  Petal.Width Species\n",
       "0      5.838774     3.150869      2.552947    -0.138983  setosa\n",
       "1      5.633302     4.063206      0.912914     1.918582  setosa\n",
       "2      4.829249     4.472595      0.812740     0.404875  setosa\n",
       "3      4.773102     3.382598      2.729648     0.484304  setosa\n",
       "4      3.310578     4.992468      0.893592    -0.006297  setosa\n",
       "5      4.387745     4.395927     -0.516972     0.200262  setosa\n",
       "6      5.412433     3.067126     -0.670316     0.332798  setosa\n",
       "7      5.739549     2.979523      1.860401     0.163752  setosa\n",
       "8      4.351120     4.513765     -0.082217    -1.730617  setosa\n",
       "9      5.202007     2.511745      2.091930     0.612450  setosa"
      ]
     },
     "execution_count": 11,
     "metadata": {},
     "output_type": "execute_result"
    }
   ],
   "source": [
    "iris = pd.read_csv('Data/iris.csv')\n",
    "print(iris.shape)\n",
    "print(iris.columns.values)\n",
    "\n",
    "iris_X = iris.drop(['Species'],axis = 1)\n",
    "iris_Y = iris.Species\n",
    "\n",
    "# Add noisy features to make the problem harder\n",
    "noise = np.random.normal(0,1,iris_X.shape)\n",
    "#print(noise)\n",
    "\n",
    "iris_with_noise_X = iris_X + noise\n",
    "iris_with_noise = pd.concat([iris_with_noise_X, iris_Y], axis=1)\n",
    "iris_with_noise.head()\n",
    "\n",
    "iris_with_noise.head(10)"
   ]
  },
  {
   "cell_type": "markdown",
   "metadata": {},
   "source": [
    "## <a name=\"cross_validation\"></a>Cross Validation\n",
    "\n",
    "Using KFold to create N shuffeled folds"
   ]
  },
  {
   "cell_type": "code",
   "execution_count": 12,
   "metadata": {},
   "outputs": [
    {
     "name": "stdout",
     "output_type": "stream",
     "text": [
      "Test indices: [  3  22  31  36  38  40  69  84  85  94  96 112 122 123 147]\n",
      "Test indices: [  2   5   9  15  18  20  21  48  64  80  97 100 120 121 135]\n",
      "Test indices: [ 19  32  44  49  58  59  66  76  81  82  93 119 124 126 138]\n",
      "Test indices: [  8  33  54  63  79  87  90  91 106 110 116 118 129 141 143]\n",
      "Test indices: [  0  23  41  45  52  57  70  71  75  83  86 104 125 140 146]\n",
      "Test indices: [ 12  17  39  42  60  68  74  99 109 115 132 134 144 145 149]\n",
      "Test indices: [  7  16  24  29  47  51  56  61  62  67  73 105 117 128 142]\n",
      "Test indices: [  4  10  11  25  28  35  37  55  72  77  92 111 113 114 131]\n",
      "Test indices: [  1   6  26  34  43  46  50  53  89  98 101 108 133 136 139]\n",
      "Test indices: [ 13  14  27  30  65  78  88  95 102 103 107 127 130 137 148]\n"
     ]
    }
   ],
   "source": [
    "k_folds=10\n",
    "\n",
    "kf = KFold(n_splits=k_folds,shuffle=True) \n",
    "for train_index, test_index in kf.split(iris_X,iris_Y):\n",
    "    print(\"Test indices:\", test_index)"
   ]
  },
  {
   "cell_type": "markdown",
   "metadata": {},
   "source": [
    "## Evaluating classifier\n",
    "\n",
    "Building a classifier using specific strategy (specific learning method and specific hyperparams)"
   ]
  },
  {
   "cell_type": "code",
   "execution_count": 17,
   "metadata": {},
   "outputs": [],
   "source": [
    "clf_option_1 = tree.DecisionTreeClassifier(random_state=0, criterion=\"entropy\", min_samples_leaf=10, max_depth=4) # using default parameters\n",
    "scores_option_1 = cross_val_score(clf_option_1, iris_with_noise_X, iris_Y, cv=kf, scoring='accuracy')"
   ]
  },
  {
   "cell_type": "code",
   "execution_count": 15,
   "metadata": {},
   "outputs": [],
   "source": [
    "clf_option_2 = tree.DecisionTreeClassifier(random_state=0, criterion=\"entropy\", min_samples_leaf=1, max_depth=10) # using default parameters\n",
    "scores_option_2 = cross_val_score(clf_option_2, iris_with_noise_X, iris_Y, cv=kf, scoring='accuracy')"
   ]
  },
  {
   "cell_type": "markdown",
   "metadata": {},
   "source": [
    "visualizing the kfold scores variance"
   ]
  },
  {
   "cell_type": "code",
   "execution_count": 23,
   "metadata": {},
   "outputs": [
    {
     "name": "stdout",
     "output_type": "stream",
     "text": [
      "Strategy 1: Accuracy: 0.78 (+/- 0.27)\n",
      "[0.53333333 0.73333333 0.73333333 0.93333333 1.         0.6\n",
      " 0.86666667 0.8        0.8        0.8       ]\n"
     ]
    },
    {
     "data": {
      "image/png": "[encoded data removed]",
      "text/plain": [
       "<Figure size 432x288 with 1 Axes>"
      ]
     },
     "metadata": {
      "needs_background": "light"
     },
     "output_type": "display_data"
    },
    {
     "name": "stdout",
     "output_type": "stream",
     "text": [
      "Strategy 2: Accuracy: 0.73 (+/- 0.23)\n",
      "[0.66666667 0.86666667 0.66666667 0.6        0.8        0.86666667\n",
      " 0.66666667 0.8        0.86666667 0.53333333]\n"
     ]
    },
    {
     "data": {
      "image/png": "[encoded data removed]",
      "text/plain": [
       "<Figure size 432x288 with 1 Axes>"
      ]
     },
     "metadata": {
      "needs_background": "light"
     },
     "output_type": "display_data"
    }
   ],
   "source": [
    "print(\"Strategy 1: Accuracy: %0.2f (+/- %0.2f)\" % (scores_option_1.mean(), scores_option_1.std() * 2))\n",
    "print(scores_option_1)\n",
    "plt.bar(list(range(1, 11)), scores_option_1)\n",
    "plt.show()\n",
    "\n",
    "print(\"Strategy 2: Accuracy: %0.2f (+/- %0.2f)\" % (scores_option_2.mean(), scores_option_2.std() * 2))\n",
    "print(scores_option_2)\n",
    "plt.bar(list(range(1, 11)), scores_option_2)\n",
    "plt.show()"
   ]
  }
 ],
 "metadata": {
  "kernelspec": {
   "display_name": "Python 3",
   "language": "python",
   "name": "python3"
  },
  "language_info": {
   "codemirror_mode": {
    "name": "ipython",
    "version": 3
   },
   "file_extension": ".py",
   "mimetype": "text/x-python",
   "name": "python",
   "nbconvert_exporter": "python",
   "pygments_lexer": "ipython3",
   "version": "3.7.4"
  },
  "varInspector": {
   "cols": {
    "lenName": 16,
    "lenType": 16,
    "lenVar": 40
   },
   "kernels_config": {
    "python": {
     "delete_cmd_postfix": "",
     "delete_cmd_prefix": "del ",
     "library": "var_list.py",
     "varRefreshCmd": "print(var_dic_list())"
    },
    "r": {
     "delete_cmd_postfix": ") ",
     "delete_cmd_prefix": "rm(",
     "library": "var_list.r",
     "varRefreshCmd": "cat(var_dic_list()) "
    }
   },
   "types_to_exclude": [
    "module",
    "function",
    "builtin_function_or_method",
    "instance",
    "_Feature"
   ],
   "window_display": false
  }
 },
 "nbformat": 4,
 "nbformat_minor": 4
}
