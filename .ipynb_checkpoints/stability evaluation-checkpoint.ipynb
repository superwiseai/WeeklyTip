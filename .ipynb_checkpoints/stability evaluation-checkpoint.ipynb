{
 "cells": [
  {
   "cell_type": "markdown",
   "metadata": {},
   "source": [
    "# Stability evaluation\n",
    "Measure the stability of your model under different test cases and measuring it's performance distribution"
   ]
  },
  {
   "cell_type": "code",
   "execution_count": 2,
   "metadata": {},
   "outputs": [],
   "source": [
    "import pandas as pd\n",
    "import numpy as np\n",
    "import matplotlib.pyplot as plt\n",
    "from sklearn.model_selection import KFold\n",
    "from sklearn.model_selection import cross_val_score\n",
    "from sklearn import tree\n",
    "from sklearn import datasets\n",
    "import seaborn as sns"
   ]
  },
  {
   "cell_type": "markdown",
   "metadata": {},
   "source": [
    "## <a name=\"dataset_description\"></a>Iris Dataset Description:\n",
    "\n",
    "The iris dataset describes iris flowers. \n",
    "The explaining features are:\n",
    "\n",
    "* sepal length in cm\n",
    "* sepal width in cm\n",
    "* petal length in cm\n",
    "* petal width in cm   \n",
    "\n",
    "For the sake of demonstration I've added some noise the the original explaining variables.  \n",
    "There are 3 different iris species: Setosa, Versicolor and Verginica."
   ]
  },
  {
   "cell_type": "code",
   "execution_count": 3,
   "metadata": {},
   "outputs": [],
   "source": [
    "# random seed for reproducibility\n",
    "np.random.seed(4949)"
   ]
  },
  {
   "cell_type": "code",
   "execution_count": 4,
   "metadata": {},
   "outputs": [
    {
     "name": "stdout",
     "output_type": "stream",
     "text": [
      "(150, 5)\n"
     ]
    },
    {
     "data": {
      "text/html": [
       "<div>\n",
       "<style scoped>\n",
       "    .dataframe tbody tr th:only-of-type {\n",
       "        vertical-align: middle;\n",
       "    }\n",
       "\n",
       "    .dataframe tbody tr th {\n",
       "        vertical-align: top;\n",
       "    }\n",
       "\n",
       "    .dataframe thead th {\n",
       "        text-align: right;\n",
       "    }\n",
       "</style>\n",
       "<table border=\"1\" class=\"dataframe\">\n",
       "  <thead>\n",
       "    <tr style=\"text-align: right;\">\n",
       "      <th></th>\n",
       "      <th>sepal length (cm)</th>\n",
       "      <th>sepal width (cm)</th>\n",
       "      <th>petal length (cm)</th>\n",
       "      <th>petal width (cm)</th>\n",
       "      <th>Species</th>\n",
       "    </tr>\n",
       "  </thead>\n",
       "  <tbody>\n",
       "    <tr>\n",
       "      <td>0</td>\n",
       "      <td>4.724816</td>\n",
       "      <td>3.973102</td>\n",
       "      <td>2.612135</td>\n",
       "      <td>0.446766</td>\n",
       "      <td>setosa</td>\n",
       "    </tr>\n",
       "    <tr>\n",
       "      <td>1</td>\n",
       "      <td>5.593575</td>\n",
       "      <td>3.921469</td>\n",
       "      <td>1.338085</td>\n",
       "      <td>0.427852</td>\n",
       "      <td>setosa</td>\n",
       "    </tr>\n",
       "    <tr>\n",
       "      <td>2</td>\n",
       "      <td>6.370198</td>\n",
       "      <td>3.138910</td>\n",
       "      <td>-0.027019</td>\n",
       "      <td>0.373098</td>\n",
       "      <td>setosa</td>\n",
       "    </tr>\n",
       "    <tr>\n",
       "      <td>3</td>\n",
       "      <td>5.467030</td>\n",
       "      <td>4.296376</td>\n",
       "      <td>2.818844</td>\n",
       "      <td>1.442917</td>\n",
       "      <td>setosa</td>\n",
       "    </tr>\n",
       "    <tr>\n",
       "      <td>4</td>\n",
       "      <td>3.442147</td>\n",
       "      <td>3.432750</td>\n",
       "      <td>1.224384</td>\n",
       "      <td>0.981058</td>\n",
       "      <td>setosa</td>\n",
       "    </tr>\n",
       "  </tbody>\n",
       "</table>\n",
       "</div>"
      ],
      "text/plain": [
       "   sepal length (cm)  sepal width (cm)  petal length (cm)  petal width (cm)  \\\n",
       "0           4.724816          3.973102           2.612135          0.446766   \n",
       "1           5.593575          3.921469           1.338085          0.427852   \n",
       "2           6.370198          3.138910          -0.027019          0.373098   \n",
       "3           5.467030          4.296376           2.818844          1.442917   \n",
       "4           3.442147          3.432750           1.224384          0.981058   \n",
       "\n",
       "  Species  \n",
       "0  setosa  \n",
       "1  setosa  \n",
       "2  setosa  \n",
       "3  setosa  \n",
       "4  setosa  "
      ]
     },
     "execution_count": 4,
     "metadata": {},
     "output_type": "execute_result"
    }
   ],
   "source": [
    "from sklearn import datasets\n",
    "iris = datasets.load_iris()\n",
    "\n",
    "iris_X = pd.DataFrame(iris['data'], columns=iris['feature_names'])\n",
    "iris_y = pd.Series(iris['target'], name='Species')\n",
    "\n",
    "# replace y numeric values with names (for display purpose)\n",
    "y_mapping = {i: val for i, val in enumerate(iris['target_names'])}\n",
    "iris_y = iris_y.replace(y_mapping)\n",
    "\n",
    "# Add noisy features to make the problem harder\n",
    "noise = np.random.normal(0,1,iris_X.shape)\n",
    "iris_with_noise_X = iris_X + noise\n",
    "iris_with_noise = pd.concat([iris_with_noise_X, iris_y], axis=1)\n",
    "\n",
    "print(iris_with_noise.shape)\n",
    "iris_with_noise.head()"
   ]
  },
  {
   "cell_type": "markdown",
   "metadata": {},
   "source": [
    "## Cross Validation configuration\n",
    "\n",
    "Using KFold to create N shuffeled folds"
   ]
  },
  {
   "cell_type": "code",
   "execution_count": 5,
   "metadata": {},
   "outputs": [
    {
     "name": "stdout",
     "output_type": "stream",
     "text": [
      "Test indices: [  2   9  13  41  47  61  81 132]\n",
      "Test indices: [  3  39  53  65  69  86 143 149]\n",
      "Test indices: [  7  35  37  64  67  91 114 119]\n",
      "Test indices: [  4  17  58  84  99 106 118 145]\n",
      "Test indices: [  1  31  44  77  83 103 108 109]\n",
      "Test indices: [ 16  28  62  68  95 107 124 147]\n",
      "Test indices: [ 34  40  46  85  92  96 117 136]\n",
      "Test indices: [  6   8  30  38  60  63 104 141]\n",
      "Test indices: [ 33  43  59  74  75 121 129 142]\n",
      "Test indices: [ 45  66  73  80  87  93 101 112]\n",
      "Test indices: [  5  11  51  55  57  72 100]\n",
      "Test indices: [  0  12  32 102 120 137 144]\n",
      "Test indices: [ 42  50  78  82 110 125 126]\n",
      "Test indices: [ 20  22  52  76  79 123 148]\n",
      "Test indices: [ 19  49  70  89 111 115 130]\n",
      "Test indices: [ 18  27  29  56  94 113 128]\n",
      "Test indices: [ 14  15  21  26  98 116 139]\n",
      "Test indices: [ 10  24  48  88 133 135 140]\n",
      "Test indices: [ 23  90  97 105 122 131 134]\n",
      "Test indices: [ 25  36  54  71 127 138 146]\n"
     ]
    }
   ],
   "source": [
    "k_folds=20\n",
    "\n",
    "kf = KFold(n_splits=k_folds,shuffle=True) \n",
    "for train_index, test_index in kf.split(iris_X,iris_y):\n",
    "    print(\"Test indices:\", test_index)"
   ]
  },
  {
   "cell_type": "markdown",
   "metadata": {},
   "source": [
    "## Evaluating two different classifiers\n",
    "\n",
    "Building a classifier using specific strategy (specific learning method and specific hyperparams)"
   ]
  },
  {
   "cell_type": "code",
   "execution_count": 6,
   "metadata": {},
   "outputs": [],
   "source": [
    "clf_option_1 = tree.DecisionTreeClassifier(random_state=0, criterion=\"entropy\", min_samples_leaf=10, max_depth=4) # using default parameters\n",
    "scores_option_1 = cross_val_score(clf_option_1, iris_with_noise_X, iris_y, cv=kf, scoring='accuracy')\n",
    "\n",
    "clf_option_2 = tree.DecisionTreeClassifier(random_state=0, criterion=\"entropy\", min_samples_leaf=1, max_depth=10) # using default parameters\n",
    "scores_option_2 = cross_val_score(clf_option_2, iris_with_noise_X, iris_y, cv=kf, scoring='accuracy')"
   ]
  },
  {
   "cell_type": "markdown",
   "metadata": {},
   "source": [
    "visualizing the kfold scores variance"
   ]
  },
  {
   "cell_type": "code",
   "execution_count": 7,
   "metadata": {},
   "outputs": [
    {
     "name": "stdout",
     "output_type": "stream",
     "text": [
      "Strategy 1: Accuracy: 0.71 (+/- 0.19)\n",
      "Strategy 2: Accuracy: 0.76 (+/- 0.28)\n"
     ]
    },
    {
     "data": {
      "image/png": "[encoded data removed]",
      "text/plain": [
       "<Figure size 432x288 with 1 Axes>"
      ]
     },
     "metadata": {
      "needs_background": "light"
     },
     "output_type": "display_data"
    }
   ],
   "source": [
    "print(\"Strategy 1: Accuracy: %0.2f (+/- %0.2f)\" % (scores_option_1.mean(), scores_option_1.std() * 2))\n",
    "# print(scores_option_1)\n",
    "print(\"Strategy 2: Accuracy: %0.2f (+/- %0.2f)\" % (scores_option_2.mean(), scores_option_2.std() * 2))\n",
    "# print(scores_option_2)\n",
    "\n",
    "scores = pd.DataFrame({'Strategy 1': scores_option_1, 'Strategy 2': scores_option_2})\n",
    "\n",
    "ax = sns.boxplot(data=scores)\n",
    "sns.swarmplot(data=scores, color=\".25\", ax=ax)\n",
    "ax.set_ylim(0,1.05)\n",
    "ax.set_ylabel('Accuracy')\n",
    "plt.show()"
   ]
  }
 ],
 "metadata": {
  "kernelspec": {
   "display_name": "Python 3",
   "language": "python",
   "name": "python3"
  },
  "language_info": {
   "codemirror_mode": {
    "name": "ipython",
    "version": 3
   },
   "file_extension": ".py",
   "mimetype": "text/x-python",
   "name": "python",
   "nbconvert_exporter": "python",
   "pygments_lexer": "ipython3",
   "version": "3.7.4"
  },
  "varInspector": {
   "cols": {
    "lenName": 16,
    "lenType": 16,
    "lenVar": 40
   },
   "kernels_config": {
    "python": {
     "delete_cmd_postfix": "",
     "delete_cmd_prefix": "del ",
     "library": "var_list.py",
     "varRefreshCmd": "print(var_dic_list())"
    },
    "r": {
     "delete_cmd_postfix": ") ",
     "delete_cmd_prefix": "rm(",
     "library": "var_list.r",
     "varRefreshCmd": "cat(var_dic_list()) "
    }
   },
   "types_to_exclude": [
    "module",
    "function",
    "builtin_function_or_method",
    "instance",
    "_Feature"
   ],
   "window_display": false
  }
 },
 "nbformat": 4,
 "nbformat_minor": 4
}
